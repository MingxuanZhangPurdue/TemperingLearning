{
 "cells": [
  {
   "cell_type": "code",
   "execution_count": 1,
   "metadata": {},
   "outputs": [
    {
     "name": "stderr",
     "output_type": "stream",
     "text": [
      "Failed to detect the name of this notebook, you can set it manually with the WANDB_NOTEBOOK_NAME environment variable to enable code saving.\n"
     ]
    },
    {
     "name": "stdout",
     "output_type": "stream",
     "text": [
      "Device:  cuda\n",
      "Seed:  42\n"
     ]
    },
    {
     "name": "stderr",
     "output_type": "stream",
     "text": [
      "\u001b[34m\u001b[1mwandb\u001b[0m: Currently logged in as: \u001b[33mzhan3692\u001b[0m. Use \u001b[1m`wandb login --relogin`\u001b[0m to force relogin\n"
     ]
    },
    {
     "data": {
      "text/plain": [
       "True"
      ]
     },
     "execution_count": 1,
     "metadata": {},
     "output_type": "execute_result"
    }
   ],
   "source": [
    "import torch\n",
    "import numpy as np\n",
    "import random\n",
    "import wandb\n",
    "\n",
    "from sklearn.preprocessing import StandardScaler\n",
    "from sklearn.model_selection import train_test_split\n",
    "\n",
    "from ucimlrepo import fetch_ucirepo\n",
    "\n",
    "from noise_schedulers import LinearScheduler, PowerScheduler\n",
    "from tempering import TemperingLearningRegression\n",
    "from models import MLP\n",
    "\n",
    "seed = 42\n",
    "device = torch.device(\"cuda\" if torch.cuda.is_available() else \"cpu\")\n",
    "\n",
    "print (\"Device: \", device)\n",
    "print (\"Seed: \", seed)\n",
    "\n",
    "# Set random seed for reproducibility\n",
    "# This ensures consistent results across different runs\n",
    "torch.manual_seed(seed)  # Set seed for PyTorch\n",
    "np.random.seed(seed)     # Set seed for NumPy\n",
    "random.seed(seed)        # Set seed for Python's random module\n",
    "\n",
    "wandb.login()"
   ]
  },
  {
   "cell_type": "code",
   "execution_count": 2,
   "metadata": {},
   "outputs": [
    {
     "name": "stdout",
     "output_type": "stream",
     "text": [
      "X_train shape:  torch.Size([5197, 11])\n",
      "y_train shape:  torch.Size([5197, 1])\n",
      "X_test shape:  torch.Size([1300, 11])\n",
      "y_test shape:  torch.Size([1300, 1])\n"
     ]
    }
   ],
   "source": [
    "# fetch dataset \n",
    "wine_quality = fetch_ucirepo(id=186) \n",
    "  \n",
    "# data (as pandas dataframes) \n",
    "X = wine_quality.data.features.to_numpy()\n",
    "y = wine_quality.data.targets.to_numpy()\n",
    "\n",
    "# train test split\n",
    "test_size = 0.2\n",
    "X_train, X_test, y_train, y_test = train_test_split(X, y, test_size=test_size, random_state=seed)\n",
    "\n",
    "# standardize the features\n",
    "scaler = StandardScaler()\n",
    "X_train = scaler.fit_transform(X_train)\n",
    "X_test = scaler.transform(X_test)\n",
    "\n",
    "# convert to torch tensors\n",
    "X_train = torch.tensor(X_train, dtype=torch.float32).to(device)\n",
    "y_train = torch.tensor(y_train, dtype=torch.float32).to(device)\n",
    "\n",
    "X_test = torch.tensor(X_test, dtype=torch.float32).to(device)\n",
    "y_test = torch.tensor(y_test, dtype=torch.float32).to(device)\n",
    "\n",
    "# summary of the dataset\n",
    "print (\"X_train shape: \", X_train.shape)\n",
    "print (\"y_train shape: \", y_train.shape)\n",
    "print (\"X_test shape: \", X_test.shape)\n",
    "print (\"y_test shape: \", y_test.shape)\n",
    "\n",
    "N = X_train.shape[0]"
   ]
  },
  {
   "cell_type": "code",
   "execution_count": 3,
   "metadata": {},
   "outputs": [
    {
     "name": "stdout",
     "output_type": "stream",
     "text": [
      "Create sweep with ID: 6mh2noxb\n",
      "Sweep URL: https://wandb.ai/zhan3692/TL-WineQuality/sweeps/6mh2noxb\n"
     ]
    }
   ],
   "source": [
    "sweep_config = {\n",
    "    'method': 'random'\n",
    "    }\n",
    "\n",
    "metric = {\n",
    "    'name': 'loss',\n",
    "    'goal': 'minimize'   \n",
    "    }\n",
    "\n",
    "sweep_config['metric'] = metric\n",
    "\n",
    "parameters_dict = {\n",
    "    'T': {\n",
    "        'values': [50, 100, 200, 500]\n",
    "        },\n",
    "    'init_sigma': {\n",
    "        'values': [2.0, 1.0, 0.1]\n",
    "    },\n",
    "    'lr': {\n",
    "        'values': [1e-4, 1e-5, 1e-6]\n",
    "    },\n",
    "    'n': {\n",
    "        'values': [0.1, 0.3, 0.5, 0.7]\n",
    "    },\n",
    "    'm': {\n",
    "        'values': [0.1, 0.3, 0.5, 0.7]\n",
    "    },\n",
    "    'MC_steps': {\n",
    "        'values': [50, 100, 200, 400, 1000]\n",
    "    },\n",
    "    'burn_in_fraction': {\n",
    "        'values': [0.1, 0.3, 0.5]\n",
    "    },\n",
    "    'zeta': {\n",
    "        'values': [1.0, 0.1, 0.01]\n",
    "    },\n",
    "    'tau': {\n",
    "        'value': 1.0\n",
    "    }\n",
    "}\n",
    "\n",
    "sweep_config['parameters'] = parameters_dict\n",
    "\n",
    "sweep_id = wandb.sweep(sweep_config, project=\"TL-WineQuality\")\n"
   ]
  },
  {
   "cell_type": "code",
   "execution_count": 4,
   "metadata": {},
   "outputs": [],
   "source": [
    "def fit(config=None):\n",
    "\n",
    "    with wandb.init(config=config):\n",
    "\n",
    "        config = wandb.config\n",
    "\n",
    "        noise_scheudler = LinearScheduler(T=config.T, init_sigma=config.init_sigma)\n",
    "        D = noise_scheudler.transform(y_train)\n",
    "        sigmas = noise_scheudler.sigmas\n",
    "\n",
    "        model = MLP(X_train.shape[-1], [16, 16], 1).to(device)\n",
    "\n",
    "        trainer = TemperingLearningRegression(\n",
    "            D = D,\n",
    "            X = X_train,\n",
    "            model = model,\n",
    "            sigmas = sigmas,\n",
    "            tau = config.tau,\n",
    "            zeta = config.zeta,\n",
    "            init_lr = config.lr,\n",
    "            burn_in_fraction=config.burn_in_fraction,\n",
    "            MC_steps=config.MC_steps,\n",
    "            n = config.n,\n",
    "            m = config.m,\n",
    "            X_test = X_test,\n",
    "            y_test = y_test,\n",
    "            logger = wandb,\n",
    "            progress_bar = False\n",
    "        )\n",
    "\n",
    "        trainer.train()"
   ]
  },
  {
   "cell_type": "code",
   "execution_count": null,
   "metadata": {},
   "outputs": [],
   "source": [
    "wandb.agent(sweep_id, fit, count=5)"
   ]
  }
 ],
 "metadata": {
  "kernelspec": {
   "display_name": "mingxuan",
   "language": "python",
   "name": "python3"
  },
  "language_info": {
   "codemirror_mode": {
    "name": "ipython",
    "version": 3
   },
   "file_extension": ".py",
   "mimetype": "text/x-python",
   "name": "python",
   "nbconvert_exporter": "python",
   "pygments_lexer": "ipython3",
   "version": "3.11.9"
  }
 },
 "nbformat": 4,
 "nbformat_minor": 2
}
