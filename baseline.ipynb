{
 "cells": [
  {
   "cell_type": "code",
   "execution_count": null,
   "metadata": {},
   "outputs": [],
   "source": [
    "import torch\n",
    "import numpy as np\n",
    "import random\n",
    "\n",
    "from torch.optim import SGD\n",
    "from torch.optim.lr_scheduler import LinearLR\n",
    "from torch.utils.data import DataLoader, TensorDataset\n",
    "\n",
    "from models import MLP\n",
    "from preprocess import preprocess_UCI_dataset\n",
    "\n",
    "seed = 42\n",
    "device = torch.device(\"cuda\" if torch.cuda.is_available() else \"cpu\")\n",
    "\n",
    "print (\"Device: \", device)\n",
    "print (\"Seed: \", seed)\n",
    "\n",
    "# set random seed\n",
    "torch.manual_seed(seed)\n",
    "np.random.seed(seed)\n",
    "random.seed(seed)\n",
    "\n",
    "name_to_id_dict = {\n",
    "    \"wine_quality\": 186,\n",
    "    \"student_performance\": 320,\n",
    "    \"abalone\": 1,\n",
    "    \"automobile\": 10,\n",
    "    \"auto_mpg\": 9,\n",
    "}\n"
   ]
  },
  {
   "cell_type": "code",
   "execution_count": null,
   "metadata": {},
   "outputs": [],
   "source": [
    "dataset_name = \"wine_quality\"\n",
    "encoding_type = \"one_hot\"\n",
    "test_size = 0.2"
   ]
  },
  {
   "cell_type": "code",
   "execution_count": null,
   "metadata": {},
   "outputs": [],
   "source": [
    "X_train, X_test, y_train, y_test, preprocessor = preprocess_UCI_dataset(\n",
    "    name_to_id_dict[dataset_name], \n",
    "    encoding_type, \n",
    "    test_size, \n",
    "    seed\n",
    ")\n",
    "    \n",
    "# convert to torch tensors\n",
    "X_train = torch.tensor(X_train, dtype=torch.float32).to(device)\n",
    "y_train = torch.tensor(y_train, dtype=torch.float32).to(device)\n",
    "\n",
    "X_test = torch.tensor(X_test, dtype=torch.float32).to(device)\n",
    "y_test = torch.tensor(y_test, dtype=torch.float32).to(device)\n",
    "\n",
    "# summary of the dataset\n",
    "print (\"X_train shape: \", X_train.shape)\n",
    "print (\"y_train shape: \", y_train.shape)\n",
    "print (\"X_test shape: \", X_test.shape)\n",
    "print (\"y_test shape: \", y_test.shape)\n",
    "\n",
    "# create dataloaders\n",
    "batch_size = 128\n",
    "train_dataset = TensorDataset(X_train, y_train)\n",
    "train_dataloader = DataLoader(train_dataset, batch_size=batch_size, shuffle=True, drop_last=False)\n",
    "print (\"Batch size: \", batch_size)\n",
    "print (\"Number of iterations per epoch:\", len(train_dataloader))"
   ]
  },
  {
   "cell_type": "code",
   "execution_count": null,
   "metadata": {},
   "outputs": [],
   "source": [
    "lr = 1e-3\n",
    "epochs = 500 # 1e-2. 1e-3. 1e-4\n",
    "model = MLP(X_train.shape[-1], [32, 32], 1).to(device)\n",
    "optimizer = SGD(model.parameters(), lr=lr, momentum=0.9)\n",
    "lr_scheduler = LinearLR(optimizer, end_factor=0.01, start_factor=1, total_iters=epochs*len(train_dataloader))"
   ]
  },
  {
   "cell_type": "code",
   "execution_count": null,
   "metadata": {},
   "outputs": [],
   "source": [
    "# training loop\n",
    "\n",
    "train_losses = []\n",
    "test_losses = []\n",
    "\n",
    "for epoch in range(epochs):\n",
    "\n",
    "    model.train()\n",
    "    train_loss = 0\n",
    "\n",
    "    for i, (X_batch, y_batch) in enumerate(train_dataloader):\n",
    "        y_pred = model(X_batch)\n",
    "        loss = torch.nn.functional.mse_loss(y_pred, y_batch, reduction='mean')\n",
    "        optimizer.zero_grad()\n",
    "        loss.backward()\n",
    "        optimizer.step()\n",
    "        lr_scheduler.step()\n",
    "        train_loss += loss.item()\n",
    "    \n",
    "    train_losses.append(train_loss/len(train_dataloader))\n",
    "\n",
    "    model.eval()\n",
    "    y_pred = model(X_test)\n",
    "    test_loss = torch.mean((y_pred - y_test)**2).item()\n",
    "    test_losses.append(test_loss)\n",
    "\n",
    "    if epoch % (epochs//10) == 0:\n",
    "        print (f\"Epoch: {epoch} Train Loss: {train_loss/len(train_dataloader)} Test Loss: {test_loss}\")"
   ]
  }
 ],
 "metadata": {
  "kernelspec": {
   "display_name": "mingxuan",
   "language": "python",
   "name": "python3"
  },
  "language_info": {
   "codemirror_mode": {
    "name": "ipython",
    "version": 3
   },
   "file_extension": ".py",
   "mimetype": "text/x-python",
   "name": "python",
   "nbconvert_exporter": "python",
   "pygments_lexer": "ipython3",
   "version": "3.11.9"
  }
 },
 "nbformat": 4,
 "nbformat_minor": 2
}
