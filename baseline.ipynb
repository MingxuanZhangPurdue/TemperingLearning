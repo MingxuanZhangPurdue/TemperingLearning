{
 "cells": [
  {
   "cell_type": "code",
   "execution_count": 31,
   "metadata": {},
   "outputs": [
    {
     "name": "stdout",
     "output_type": "stream",
     "text": [
      "Device:  cuda\n",
      "Seed:  42\n"
     ]
    }
   ],
   "source": [
    "import torch\n",
    "import numpy as np\n",
    "import random\n",
    "import math\n",
    "\n",
    "from torch.optim import SGD\n",
    "from torch.optim.lr_scheduler import LinearLR\n",
    "from torch.utils.data import DataLoader, TensorDataset\n",
    "\n",
    "from models import MLP\n",
    "from preprocess import preprocess_UCI_dataset\n",
    "\n",
    "seed = 42\n",
    "device = torch.device(\"cuda\" if torch.cuda.is_available() else \"cpu\")\n",
    "\n",
    "print (\"Device: \", device)\n",
    "print (\"Seed: \", seed)\n",
    "\n",
    "# set random seed\n",
    "torch.manual_seed(seed)\n",
    "np.random.seed(seed)\n",
    "random.seed(seed)\n",
    "\n",
    "name_to_id_dict = {\n",
    "    \"wine_quality\": 186,\n",
    "    \"abalone\": 1,\n",
    "    \"liver_disorders\": 60,\n",
    "    \"concrete_compressive_strength\": 165\n",
    "}\n",
    "\n",
    "encoding_type = \"one_hot\"\n",
    "test_size = 0.2\n",
    "normalize_target = True"
   ]
  },
  {
   "cell_type": "code",
   "execution_count": 32,
   "metadata": {},
   "outputs": [
    {
     "name": "stdout",
     "output_type": "stream",
     "text": [
      "Fetched dataset name: Concrete Compressive Strength\n",
      "Numeric features:  ['Cement', 'Blast Furnace Slag', 'Fly Ash', 'Water', 'Superplasticizer', 'Coarse Aggregate', 'Fine Aggregate', 'Age']\n",
      "Categorical features:  []\n",
      "X_train shape:  torch.Size([824, 8])\n",
      "y_train shape:  torch.Size([824, 1])\n",
      "X_test shape:  torch.Size([206, 8])\n",
      "y_test shape:  torch.Size([206, 1])\n",
      "Batch size: 32\n",
      "Number of iterations per epoch: 26\n"
     ]
    }
   ],
   "source": [
    "dataset_name = \"concrete_compressive_strength\"\n",
    "\n",
    "X_train, X_test, y_train, y_test, preprocessor, y_scaler = preprocess_UCI_dataset(\n",
    "    name_to_id_dict[dataset_name], \n",
    "    encoding_type, \n",
    "    normalize_target,\n",
    "    test_size, \n",
    "    seed\n",
    ")\n",
    "    \n",
    "# convert to torch tensors\n",
    "X_train = torch.tensor(X_train, dtype=torch.float32).to(device)\n",
    "y_train = torch.tensor(y_train, dtype=torch.float32).to(device)\n",
    "\n",
    "X_test = torch.tensor(X_test, dtype=torch.float32).to(device)\n",
    "y_test = torch.tensor(y_test, dtype=torch.float32).to(device)\n",
    "\n",
    "# summary of the dataset\n",
    "print (\"X_train shape: \", X_train.shape)\n",
    "print (\"y_train shape: \", y_train.shape)\n",
    "print (\"X_test shape: \", X_test.shape)\n",
    "print (\"y_test shape: \", y_test.shape)\n",
    "\n",
    "# set batch size to 0.05 of the training dataset, then pick the closest from [4, 8, 16, 32, 64, 128]\n",
    "batch_size = math.ceil(0.05 * X_train.shape[0])\n",
    "valid_batch_sizes = [4, 8, 16, 32, 64, 128]\n",
    "batch_size = min(valid_batch_sizes, key=lambda x: abs(x - batch_size))\n",
    "print(\"Batch size:\", batch_size)\n",
    "\n",
    "train_dataset = TensorDataset(X_train, y_train)\n",
    "train_dataloader = DataLoader(train_dataset, batch_size=batch_size, shuffle=True, drop_last=False)\n",
    "print (\"Number of iterations per epoch:\", len(train_dataloader))"
   ]
  },
  {
   "cell_type": "code",
   "execution_count": 37,
   "metadata": {},
   "outputs": [],
   "source": [
    "lr = 1e-3 #[1e-2. 1e-3, 1e-4, 1e-5]\n",
    "epochs = 500 #[20, 50, 100, 500, 1000]\n",
    "model = MLP(X_train.shape[-1], [32, 32], 1).to(device)\n",
    "optimizer = SGD(model.parameters(), lr=lr, momentum=0.9)\n",
    "lr_scheduler = LinearLR(optimizer, end_factor=0.1, start_factor=1, total_iters=epochs)"
   ]
  },
  {
   "cell_type": "code",
   "execution_count": 38,
   "metadata": {},
   "outputs": [
    {
     "name": "stdout",
     "output_type": "stream",
     "text": [
      "Epoch: 25 Train Loss: 0.26802275215203947 Test Loss: 0.24800094962120056\n",
      "Epoch: 50 Train Loss: 0.16278743400023535 Test Loss: 0.17417755722999573\n",
      "Epoch: 75 Train Loss: 0.13436446711421013 Test Loss: 0.1491585522890091\n",
      "Epoch: 100 Train Loss: 0.11564916945420779 Test Loss: 0.13482382893562317\n",
      "Epoch: 125 Train Loss: 0.1050636344231092 Test Loss: 0.126578226685524\n",
      "Epoch: 150 Train Loss: 0.09871204111438531 Test Loss: 0.1239461824297905\n",
      "Epoch: 175 Train Loss: 0.09446399601606223 Test Loss: 0.11753694713115692\n",
      "Epoch: 200 Train Loss: 0.09069741889834404 Test Loss: 0.11521105468273163\n",
      "Epoch: 225 Train Loss: 0.08715036124564134 Test Loss: 0.11354348063468933\n",
      "Epoch: 250 Train Loss: 0.08424913868881188 Test Loss: 0.11344689130783081\n",
      "Epoch: 275 Train Loss: 0.08173844046317615 Test Loss: 0.11142310500144958\n",
      "Epoch: 300 Train Loss: 0.07942246502408615 Test Loss: 0.11094718426465988\n",
      "Epoch: 325 Train Loss: 0.07802742476073596 Test Loss: 0.10960306972265244\n",
      "Epoch: 350 Train Loss: 0.07635684254077765 Test Loss: 0.10981865227222443\n",
      "Epoch: 375 Train Loss: 0.07559332022300133 Test Loss: 0.11105839163064957\n",
      "Epoch: 400 Train Loss: 0.07508419289325292 Test Loss: 0.11085962504148483\n",
      "Epoch: 425 Train Loss: 0.07380979092648396 Test Loss: 0.11111936718225479\n",
      "Epoch: 450 Train Loss: 0.07305247136033498 Test Loss: 0.11074189096689224\n",
      "Epoch: 475 Train Loss: 0.07298334086170563 Test Loss: 0.11112482100725174\n",
      "Epoch: 500 Train Loss: 0.07237620365161163 Test Loss: 0.11088558286428452\n"
     ]
    }
   ],
   "source": [
    "train_losses = []\n",
    "test_losses = []\n",
    "\n",
    "for epoch in range(epochs):\n",
    "\n",
    "    model.train()\n",
    "    train_loss = 0\n",
    "\n",
    "    for i, (X_batch, y_batch) in enumerate(train_dataloader):\n",
    "        y_pred = model(X_batch)\n",
    "        loss = torch.nn.functional.mse_loss(y_pred, y_batch, reduction='mean')\n",
    "        optimizer.zero_grad()\n",
    "        loss.backward()\n",
    "        optimizer.step()\n",
    "        train_loss += loss.item()\n",
    "    \n",
    "    lr_scheduler.step()\n",
    "    \n",
    "    train_losses.append(train_loss/len(train_dataloader))\n",
    "\n",
    "    model.eval()\n",
    "    y_pred = model(X_test)\n",
    "    test_loss = torch.mean((y_pred - y_test)**2).item()\n",
    "    test_losses.append(test_loss)\n",
    "\n",
    "    if (epoch+1) % ((epochs)//20) == 0:\n",
    "        print (f\"Epoch: {epoch+1} Train Loss: {train_loss/len(train_dataloader)} Test Loss: {test_loss}\")"
   ]
  },
  {
   "cell_type": "code",
   "execution_count": null,
   "metadata": {},
   "outputs": [],
   "source": []
  },
  {
   "cell_type": "code",
   "execution_count": null,
   "metadata": {},
   "outputs": [],
   "source": []
  }
 ],
 "metadata": {
  "kernelspec": {
   "display_name": "mingxuan",
   "language": "python",
   "name": "python3"
  },
  "language_info": {
   "codemirror_mode": {
    "name": "ipython",
    "version": 3
   },
   "file_extension": ".py",
   "mimetype": "text/x-python",
   "name": "python",
   "nbconvert_exporter": "python",
   "pygments_lexer": "ipython3",
   "version": "3.11.9"
  }
 },
 "nbformat": 4,
 "nbformat_minor": 2
}
