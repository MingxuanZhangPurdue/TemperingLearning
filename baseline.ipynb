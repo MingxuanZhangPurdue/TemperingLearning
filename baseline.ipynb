{
 "cells": [
  {
   "cell_type": "code",
   "execution_count": 1,
   "metadata": {},
   "outputs": [
    {
     "name": "stdout",
     "output_type": "stream",
     "text": [
      "Device:  cuda\n",
      "Seed:  42\n"
     ]
    }
   ],
   "source": [
    "import torch\n",
    "import numpy as np\n",
    "import random\n",
    "import math\n",
    "\n",
    "from torch.optim import SGD\n",
    "from torch.optim.lr_scheduler import LinearLR\n",
    "from torch.utils.data import DataLoader, TensorDataset\n",
    "\n",
    "from models import MLP\n",
    "from preprocess import preprocess_UCI_dataset\n",
    "\n",
    "seed = 42\n",
    "device = torch.device(\"cuda\" if torch.cuda.is_available() else \"cpu\")\n",
    "\n",
    "print (\"Device: \", device)\n",
    "print (\"Seed: \", seed)\n",
    "\n",
    "# set random seed\n",
    "torch.manual_seed(seed)\n",
    "np.random.seed(seed)\n",
    "random.seed(seed)\n",
    "\n",
    "name_to_id_dict = {\n",
    "    \"wine_quality\": 186,\n",
    "    \"student_performance\": 320,\n",
    "    \"abalone\": 1,\n",
    "    \"liver_disorders\": 60,\n",
    "    \"concrete_compressive_strength\": 165\n",
    "}\n",
    "\n",
    "encoding_type = \"one_hot\"\n",
    "test_size = 0.2\n",
    "normalize_target = True"
   ]
  },
  {
   "cell_type": "code",
   "execution_count": 2,
   "metadata": {},
   "outputs": [
    {
     "name": "stdout",
     "output_type": "stream",
     "text": [
      "Fetched dataset name: Liver Disorders\n",
      "Numeric features:  ['mcv', 'alkphos', 'sgpt', 'sgot', 'gammagt']\n",
      "Categorical features:  []\n",
      "X_train shape:  torch.Size([276, 5])\n",
      "y_train shape:  torch.Size([276, 1])\n",
      "X_test shape:  torch.Size([69, 5])\n",
      "y_test shape:  torch.Size([69, 1])\n",
      "Batch size: 16\n",
      "Number of iterations per epoch: 18\n"
     ]
    }
   ],
   "source": [
    "dataset_name = \"liver_disorders\"\n",
    "\n",
    "\n",
    "X_train, X_test, y_train, y_test, preprocessor, y_scaler = preprocess_UCI_dataset(\n",
    "    name_to_id_dict[dataset_name], \n",
    "    encoding_type, \n",
    "    normalize_target,\n",
    "    test_size, \n",
    "    seed\n",
    ")\n",
    "    \n",
    "# convert to torch tensors\n",
    "X_train = torch.tensor(X_train, dtype=torch.float32).to(device)\n",
    "y_train = torch.tensor(y_train, dtype=torch.float32).to(device)\n",
    "\n",
    "X_test = torch.tensor(X_test, dtype=torch.float32).to(device)\n",
    "y_test = torch.tensor(y_test, dtype=torch.float32).to(device)\n",
    "\n",
    "# summary of the dataset\n",
    "print (\"X_train shape: \", X_train.shape)\n",
    "print (\"y_train shape: \", y_train.shape)\n",
    "print (\"X_test shape: \", X_test.shape)\n",
    "print (\"y_test shape: \", y_test.shape)\n",
    "\n",
    "# set batch size to 0.05 of the training dataset, then pick the closest from [4, 8, 16, 32, 64, 128]\n",
    "batch_size = math.ceil(0.05 * X_train.shape[0])\n",
    "valid_batch_sizes = [4, 8, 16, 32, 64, 128]\n",
    "batch_size = min(valid_batch_sizes, key=lambda x: abs(x - batch_size))\n",
    "print(\"Batch size:\", batch_size)\n",
    "\n",
    "train_dataset = TensorDataset(X_train, y_train)\n",
    "train_dataloader = DataLoader(train_dataset, batch_size=batch_size, shuffle=True, drop_last=False)\n",
    "print (\"Number of iterations per epoch:\", len(train_dataloader))"
   ]
  },
  {
   "cell_type": "code",
   "execution_count": 3,
   "metadata": {},
   "outputs": [],
   "source": [
    "lr = 1e-4#[1e-2. 1e-3, 1e-4, 1e-5]\n",
    "epochs = 20\n",
    "model = MLP(X_train.shape[-1], [32, 32], 1).to(device)\n",
    "optimizer = SGD(model.parameters(), lr=lr, momentum=0.9)\n",
    "lr_scheduler = LinearLR(optimizer, end_factor=0.1, start_factor=1, total_iters=epochs)"
   ]
  },
  {
   "cell_type": "code",
   "execution_count": 4,
   "metadata": {},
   "outputs": [
    {
     "name": "stdout",
     "output_type": "stream",
     "text": [
      "Epoch: 2 Train Loss: 1.0957549413045247 Test Loss: 0.8865848779678345\n",
      "Epoch: 4 Train Loss: 0.9104206677940156 Test Loss: 0.8375880718231201\n",
      "Epoch: 6 Train Loss: 0.8997215545839734 Test Loss: 0.8181037306785583\n",
      "Epoch: 8 Train Loss: 0.8434111956093047 Test Loss: 0.8090640902519226\n",
      "Epoch: 10 Train Loss: 0.8202515062358644 Test Loss: 0.8036180138587952\n",
      "Epoch: 12 Train Loss: 0.9828134758604897 Test Loss: 0.8012303113937378\n",
      "Epoch: 14 Train Loss: 0.8068351613150703 Test Loss: 0.801332950592041\n",
      "Epoch: 16 Train Loss: 0.8010087857643763 Test Loss: 0.8039773106575012\n",
      "Epoch: 18 Train Loss: 0.7946086078882217 Test Loss: 0.8058134317398071\n",
      "Epoch: 20 Train Loss: 0.8035050713353686 Test Loss: 0.8070772886276245\n"
     ]
    }
   ],
   "source": [
    "train_losses = []\n",
    "test_losses = []\n",
    "\n",
    "for epoch in range(epochs):\n",
    "\n",
    "    model.train()\n",
    "    train_loss = 0\n",
    "\n",
    "    for i, (X_batch, y_batch) in enumerate(train_dataloader):\n",
    "        y_pred = model(X_batch)\n",
    "        loss = torch.nn.functional.mse_loss(y_pred, y_batch, reduction='mean')\n",
    "        optimizer.zero_grad()\n",
    "        loss.backward()\n",
    "        optimizer.step()\n",
    "        train_loss += loss.item()\n",
    "    \n",
    "    lr_scheduler.step()\n",
    "    \n",
    "    train_losses.append(train_loss/len(train_dataloader))\n",
    "\n",
    "    model.eval()\n",
    "    y_pred = model(X_test)\n",
    "    test_loss = torch.mean((y_pred - y_test)**2).item()\n",
    "    test_losses.append(test_loss)\n",
    "\n",
    "    if (epoch+1) % ((epochs)//10) == 0:\n",
    "        print (f\"Epoch: {epoch+1} Train Loss: {train_loss/len(train_dataloader)} Test Loss: {test_loss}\")"
   ]
  },
  {
   "cell_type": "code",
   "execution_count": null,
   "metadata": {},
   "outputs": [],
   "source": []
  }
 ],
 "metadata": {
  "kernelspec": {
   "display_name": "mingxuan",
   "language": "python",
   "name": "python3"
  },
  "language_info": {
   "codemirror_mode": {
    "name": "ipython",
    "version": 3
   },
   "file_extension": ".py",
   "mimetype": "text/x-python",
   "name": "python",
   "nbconvert_exporter": "python",
   "pygments_lexer": "ipython3",
   "version": "3.11.9"
  }
 },
 "nbformat": 4,
 "nbformat_minor": 2
}
