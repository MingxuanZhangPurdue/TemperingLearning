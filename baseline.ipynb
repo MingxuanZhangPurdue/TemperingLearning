{
 "cells": [
  {
   "cell_type": "code",
   "execution_count": 30,
   "metadata": {},
   "outputs": [
    {
     "name": "stdout",
     "output_type": "stream",
     "text": [
      "Device:  cuda\n",
      "Seed:  42\n"
     ]
    }
   ],
   "source": [
    "import torch\n",
    "import numpy as np\n",
    "import random\n",
    "\n",
    "from torch.optim import Adam, SGD\n",
    "from torch.optim.lr_scheduler import LinearLR\n",
    "from torch.utils.data import DataLoader, TensorDataset\n",
    "\n",
    "import matplotlib.pyplot as plt\n",
    "\n",
    "from sklearn.preprocessing import StandardScaler\n",
    "from sklearn.model_selection import train_test_split\n",
    "\n",
    "from ucimlrepo import fetch_ucirepo \n",
    "\n",
    "from models import MLP\n",
    "\n",
    "seed = 42\n",
    "device = torch.device(\"cuda\" if torch.cuda.is_available() else \"cpu\")\n",
    "\n",
    "print (\"Device: \", device)\n",
    "print (\"Seed: \", seed)\n",
    "\n",
    "# set random seed\n",
    "torch.manual_seed(seed)\n",
    "np.random.seed(seed)\n",
    "random.seed(seed)"
   ]
  },
  {
   "cell_type": "code",
   "execution_count": 45,
   "metadata": {},
   "outputs": [
    {
     "name": "stdout",
     "output_type": "stream",
     "text": [
      "X_train shape:  torch.Size([5197, 11])\n",
      "y_train shape:  torch.Size([5197, 1])\n",
      "X_test shape:  torch.Size([1300, 11])\n",
      "y_test shape:  torch.Size([1300, 1])\n",
      "Batch size:  128\n",
      "Number of iterations per epoch: 41\n"
     ]
    }
   ],
   "source": [
    "# fetch dataset \n",
    "wine_quality = fetch_ucirepo(id=186) \n",
    "  \n",
    "# data (as pandas dataframes) \n",
    "X = wine_quality.data.features.to_numpy()\n",
    "y = wine_quality.data.targets.to_numpy()\n",
    "\n",
    "# train test split\n",
    "test_size = 0.2\n",
    "X_train, X_test, y_train, y_test = train_test_split(X, y, test_size=test_size, random_state=seed)\n",
    "\n",
    "# standardize the features\n",
    "scaler = StandardScaler()\n",
    "X_train = scaler.fit_transform(X_train)\n",
    "X_test = scaler.transform(X_test)\n",
    "\n",
    "# convert to torch tensors\n",
    "X_train = torch.tensor(X_train, dtype=torch.float32).to(device)\n",
    "y_train = torch.tensor(y_train, dtype=torch.float32).to(device)\n",
    "\n",
    "X_test = torch.tensor(X_test, dtype=torch.float32).to(device)\n",
    "y_test = torch.tensor(y_test, dtype=torch.float32).to(device)\n",
    "\n",
    "# summary of the dataset\n",
    "print (\"X_train shape: \", X_train.shape)\n",
    "print (\"y_train shape: \", y_train.shape)\n",
    "print (\"X_test shape: \", X_test.shape)\n",
    "print (\"y_test shape: \", y_test.shape)\n",
    "\n",
    "# create dataloaders\n",
    "batch_size = 128\n",
    "train_dataset = TensorDataset(X_train, y_train)\n",
    "train_dataloader = DataLoader(train_dataset, batch_size=batch_size, shuffle=True, drop_last=False)\n",
    "print (\"Batch size: \", batch_size)\n",
    "print (\"Number of iterations per epoch:\", len(train_dataloader))"
   ]
  },
  {
   "cell_type": "code",
   "execution_count": 57,
   "metadata": {},
   "outputs": [],
   "source": [
    "epochs = 400 # 100, 200, 300, 400, 500\n",
    "lr = 1e-3 # 1e-2. 1e-3. 1e-4\n",
    "model = MLP(X_train.shape[-1], [32, 32], 1).to(device)\n",
    "optimizer = Adam(model.parameters(), lr=lr)\n",
    "lr_scheduler = LinearLR(optimizer, end_factor=0, start_factor=1, total_iters=epochs*len(train_dataloader))"
   ]
  },
  {
   "cell_type": "code",
   "execution_count": 58,
   "metadata": {},
   "outputs": [
    {
     "name": "stdout",
     "output_type": "stream",
     "text": [
      "Epoch: 0 Train Loss: 30.31999285628156 Test Loss: 23.968900680541992\n",
      "Epoch: 40 Train Loss: 0.4783033888514449 Test Loss: 0.5136999487876892\n",
      "Epoch: 80 Train Loss: 0.4447713472494265 Test Loss: 0.4837651252746582\n",
      "Epoch: 120 Train Loss: 0.42693787231677915 Test Loss: 0.4745670258998871\n",
      "Epoch: 160 Train Loss: 0.41273760359461714 Test Loss: 0.47068271040916443\n",
      "Epoch: 200 Train Loss: 0.4040468051666167 Test Loss: 0.4673764407634735\n",
      "Epoch: 240 Train Loss: 0.39574643824158645 Test Loss: 0.4680960774421692\n",
      "Epoch: 280 Train Loss: 0.3879641883256959 Test Loss: 0.46133914589881897\n",
      "Epoch: 320 Train Loss: 0.38429050329254894 Test Loss: 0.4621370732784271\n",
      "Epoch: 360 Train Loss: 0.3809779860624453 Test Loss: 0.46105605363845825\n"
     ]
    }
   ],
   "source": [
    "# training loop\n",
    "\n",
    "train_losses = []\n",
    "test_losses = []\n",
    "\n",
    "for epoch in range(epochs):\n",
    "\n",
    "    model.train()\n",
    "    train_loss = 0\n",
    "\n",
    "    for i, (X_batch, y_batch) in enumerate(train_dataloader):\n",
    "        y_pred = model(X_batch)\n",
    "        loss = torch.nn.functional.mse_loss(y_pred, y_batch, reduction='mean')\n",
    "        optimizer.zero_grad()\n",
    "        loss.backward()\n",
    "        optimizer.step()\n",
    "        lr_scheduler.step()\n",
    "        train_loss += loss.item()\n",
    "    \n",
    "    train_losses.append(train_loss/len(train_dataloader))\n",
    "\n",
    "    model.eval()\n",
    "    y_pred = model(X_test)\n",
    "    test_loss = torch.mean((y_pred - y_test)**2).item()\n",
    "    test_losses.append(test_loss)\n",
    "\n",
    "    if epoch % (epochs//10) == 0:\n",
    "        print (f\"Epoch: {epoch} Train Loss: {train_loss/len(train_dataloader)} Test Loss: {test_loss}\")"
   ]
  }
 ],
 "metadata": {
  "kernelspec": {
   "display_name": "mingxuan",
   "language": "python",
   "name": "python3"
  },
  "language_info": {
   "codemirror_mode": {
    "name": "ipython",
    "version": 3
   },
   "file_extension": ".py",
   "mimetype": "text/x-python",
   "name": "python",
   "nbconvert_exporter": "python",
   "pygments_lexer": "ipython3",
   "version": "3.11.9"
  }
 },
 "nbformat": 4,
 "nbformat_minor": 2
}
