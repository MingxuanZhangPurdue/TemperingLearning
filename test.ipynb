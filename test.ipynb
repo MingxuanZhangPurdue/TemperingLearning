{
 "cells": [
  {
   "cell_type": "code",
   "execution_count": 1,
   "metadata": {},
   "outputs": [],
   "source": [
    "import torch\n",
    "\n",
    "from dataclasses import dataclass\n",
    "from lightning.fabric.utilities import AttributeDict\n",
    "from tqdm import tqdm\n",
    "\n",
    "import lightning as L\n",
    "\n",
    "from diffusers import DDPMScheduler\n",
    "from datasets import load_dataset\n",
    "from torchvision import transforms\n",
    "from diffusers import UNet2DModel\n",
    "from diffusers.optimization import get_cosine_schedule_with_warmup"
   ]
  },
  {
   "cell_type": "code",
   "execution_count": 4,
   "metadata": {},
   "outputs": [],
   "source": [
    "@dataclass\n",
    "class Arguments:\n",
    "\n",
    "    seed: int = 42\n",
    "\n",
    "    image_size: int = 32\n",
    "\n",
    "    train_batch_size: int = 16\n",
    "    learning_rate: float = 1e-4\n",
    "    lr_warmup_fraction: float = 0.1\n",
    "\n",
    "    start_timestep: int = 900\n",
    "\n",
    "    num_epochs: int = 10\n",
    "    sample_prediction: bool = False\n",
    "\n",
    "args = Arguments()"
   ]
  },
  {
   "cell_type": "code",
   "execution_count": 5,
   "metadata": {},
   "outputs": [
    {
     "name": "stderr",
     "output_type": "stream",
     "text": [
      "Seed set to 42\n"
     ]
    }
   ],
   "source": [
    "# set seed\n",
    "L.seed_everything(args.seed)\n",
    "\n",
    "# set fabric\n",
    "fabric = L.Fabric(\n",
    "    accelerator=\"auto\", \n",
    "    devices=\"auto\",\n",
    "    strategy=\"auto\",\n",
    "    precision=\"32-true\",\n",
    ")\n",
    "\n",
    "# launch fabric\n",
    "fabric.launch()"
   ]
  },
  {
   "cell_type": "code",
   "execution_count": 6,
   "metadata": {},
   "outputs": [
    {
     "name": "stderr",
     "output_type": "stream",
     "text": [
      "Repo card metadata block was not found. Setting CardData to empty.\n"
     ]
    },
    {
     "name": "stdout",
     "output_type": "stream",
     "text": [
      "Number of training batches: 63\n"
     ]
    }
   ],
   "source": [
    "# set dataset\n",
    "train_dataset = load_dataset(\n",
    "    \"huggan/smithsonian_butterflies_subset\", \n",
    "    split=\"train\", \n",
    "    cache_dir=\"./cache\"\n",
    ")\n",
    "\n",
    "# set transform\n",
    "preprocess = transforms.Compose(\n",
    "    [\n",
    "        transforms.Resize((args.image_size, args.image_size)),\n",
    "        transforms.RandomHorizontalFlip(),\n",
    "        transforms.ToTensor(),\n",
    "        transforms.Normalize([0.5], [0.5]),\n",
    "    ]\n",
    ")\n",
    "\n",
    "def transform(examples):\n",
    "    images = [preprocess(image.convert(\"RGB\")) for image in examples[\"image\"]]\n",
    "    return {\"images\": images}\n",
    "\n",
    "train_dataset.set_transform(transform)\n",
    "num_training_samples = len(train_dataset)\n",
    "\n",
    "# set dataloader\n",
    "train_dataloader = torch.utils.data.DataLoader(\n",
    "    train_dataset, \n",
    "    batch_size=args.train_batch_size, \n",
    "    shuffle=True,\n",
    "    pin_memory=True,\n",
    ")\n",
    "num_training_batches = len(train_dataloader)\n",
    "\n",
    "print (\"Number of training batches:\", num_training_batches)"
   ]
  },
  {
   "cell_type": "code",
   "execution_count": 7,
   "metadata": {},
   "outputs": [
    {
     "name": "stdout",
     "output_type": "stream",
     "text": [
      "Number of parameters: 28447235\n"
     ]
    }
   ],
   "source": [
    "# set model\n",
    "model = UNet2DModel(\n",
    "    sample_size=args.image_size,  # the target image resolution\n",
    "    in_channels=3,  # the number of input channels, 3 for RGB images\n",
    "    out_channels=3,  # the number of output channels\n",
    "    layers_per_block=2,  # how many ResNet layers to use per UNet block\n",
    "    block_out_channels=(64, 64, 128, 128, 256, 256),  # the number of output channels for each UNet block\n",
    "    down_block_types=(\n",
    "        \"DownBlock2D\",  # a regular ResNet downsampling block\n",
    "        \"DownBlock2D\",\n",
    "        \"DownBlock2D\",\n",
    "        \"DownBlock2D\",\n",
    "        \"AttnDownBlock2D\",  # a ResNet downsampling block with spatial self-attention\n",
    "        \"DownBlock2D\",\n",
    "    ),\n",
    "    up_block_types=(\n",
    "        \"UpBlock2D\",  # a regular ResNet upsampling block\n",
    "        \"AttnUpBlock2D\",  # a ResNet upsampling block with spatial self-attention\n",
    "        \"UpBlock2D\",\n",
    "        \"UpBlock2D\",\n",
    "        \"UpBlock2D\",\n",
    "        \"UpBlock2D\",\n",
    "    ),\n",
    ")\n",
    "\n",
    "num_trainable_params = sum(p.numel() for p in model.parameters())\n",
    "print(f\"Number of parameters: {num_trainable_params}\")"
   ]
  },
  {
   "cell_type": "code",
   "execution_count": 17,
   "metadata": {},
   "outputs": [
    {
     "name": "stdout",
     "output_type": "stream",
     "text": [
      "Number of training timesteps: 1000\n"
     ]
    }
   ],
   "source": [
    "# set noise scheduler\n",
    "noise_scheduler = DDPMScheduler()\n",
    "print (\"Number of training timesteps:\", noise_scheduler.config.num_train_timesteps)\n",
    "\n",
    "def add_noise_from_timestep(    \n",
    "    original_samples: torch.Tensor,\n",
    "    noise: torch.Tensor,\n",
    "    timesteps: torch.IntTensor,\n",
    ") -> torch.Tensor:\n",
    "    \n",
    "    # calculate the cumulative product of reversed alphas\n",
    "    alphas_reversed_cumprod = torch.cumprod(torch.flip(noise_scheduler.alphas, [0]), dim=0)\n",
    "    # each prod starts from the current timestep to the end\n",
    "    alphas_reversed_cumprod = torch.flip(alphas_reversed_cumprod, [0])\n",
    "\n",
    "    alphas_reversed_cumprod = alphas_reversed_cumprod.to(device=original_samples.device)\n",
    "    alphas_reversed_cumprod = alphas_reversed_cumprod.to(dtype=original_samples.dtype)\n",
    "    timesteps = timesteps.to(original_samples.device)\n",
    "\n",
    "    sqrt_alpha_reversed_cumprod = alphas_reversed_cumprod[timesteps] ** 0.5\n",
    "    sqrt_alpha_reversed_cumprod = sqrt_alpha_reversed_cumprod.flatten()\n",
    "    while len(sqrt_alpha_reversed_cumprod.shape) < len(original_samples.shape):\n",
    "        sqrt_alpha_reversed_cumprod = sqrt_alpha_reversed_cumprod.unsqueeze(-1)\n",
    "\n",
    "    sqrt_one_minus_alpha_reversed_cumprod = (1 - alphas_reversed_cumprod[timesteps]) ** 0.5\n",
    "    sqrt_one_minus_alpha_reversed_cumprod = sqrt_one_minus_alpha_reversed_cumprod.flatten()\n",
    "    while len(sqrt_one_minus_alpha_reversed_cumprod.shape) < len(original_samples.shape):\n",
    "        sqrt_one_minus_alpha_reversed_cumprod = sqrt_one_minus_alpha_reversed_cumprod.unsqueeze(-1)\n",
    "\n",
    "    noisy_samples = sqrt_alpha_reversed_cumprod * original_samples + sqrt_one_minus_alpha_reversed_cumprod * noise\n",
    "    return noisy_samples"
   ]
  },
  {
   "cell_type": "code",
   "execution_count": 9,
   "metadata": {},
   "outputs": [],
   "source": [
    "# set optimizer\n",
    "optimizer = torch.optim.Adam(\n",
    "    model.parameters(),\n",
    "    lr=args.learning_rate\n",
    ")\n",
    "\n",
    "# set lr scheduler\n",
    "lr_scheduler = get_cosine_schedule_with_warmup(\n",
    "    optimizer=optimizer,\n",
    "    num_warmup_steps=int(args.lr_warmup_fraction * args.num_epochs * num_training_batches),\n",
    "    num_training_steps=args.num_epochs * num_training_batches\n",
    ")"
   ]
  },
  {
   "cell_type": "code",
   "execution_count": 10,
   "metadata": {},
   "outputs": [],
   "source": [
    "# set up objects\n",
    "model, optimizer = fabric.setup(model, optimizer)\n",
    "train_dataloader = fabric.setup_dataloaders(train_dataloader)"
   ]
  },
  {
   "cell_type": "code",
   "execution_count": 18,
   "metadata": {},
   "outputs": [],
   "source": [
    "def train_step(model, batch, start_timestep):\n",
    "\n",
    "    assert start_timestep >= -1 and start_timestep <= noise_scheduler.config.num_train_timesteps-2, \"start_timestep must be in the range of -2 to noise_scheduler.config.num_train_timesteps-1, including the boundary values!\"\n",
    "\n",
    "    # get the clean images\n",
    "    clean_images = batch[\"images\"]\n",
    "\n",
    "    # add noise to the clean images to generate noisy images\n",
    "    if start_timestep == -1:\n",
    "        noisy_images = clean_images\n",
    "    else:\n",
    "        noisy_images = noise_scheduler.add_noise(clean_images, torch.randn_like(clean_images), torch.tensor(start_timestep, device=clean_images.device, dtype=torch.int))\n",
    "\n",
    "    # draw epsilon from the standard normal distribution\n",
    "    epsilon = torch.randn_like(clean_images)\n",
    "\n",
    "    # add epsilon to the noisy images to generate pesudo white (standard normal) noise from there\n",
    "    if start_timestep == -1:\n",
    "        timestep = torch.tensor(0, device=clean_images.device, dtype=torch.int)\n",
    "    else:\n",
    "        timestep = torch.tensor(start_timestep+1, device=clean_images.device, dtype=torch.int)\n",
    "    pesudo_white_noise = add_noise_from_timestep(noisy_images, epsilon, timestep)\n",
    "\n",
    "    # predict the epsilon\n",
    "    predicted_noisy_images = model(pesudo_white_noise, timestep).sample\n",
    "\n",
    "    # calculate the mean squared error loss\n",
    "    mse_loss = torch.nn.functional.mse_loss(noisy_images, predicted_noisy_images)\n",
    "    \n",
    "    return mse_loss\n"
   ]
  },
  {
   "cell_type": "code",
   "execution_count": 19,
   "metadata": {},
   "outputs": [
    {
     "name": "stderr",
     "output_type": "stream",
     "text": [
      "Training:   0%|          | 0/630 [00:39<?, ?it/s]\n"
     ]
    },
    {
     "ename": "UnboundLocalError",
     "evalue": "cannot access local variable 'alphas_reversed_cumprod' where it is not associated with a value",
     "output_type": "error",
     "traceback": [
      "\u001b[1;31m---------------------------------------------------------------------------\u001b[0m",
      "\u001b[1;31mUnboundLocalError\u001b[0m                         Traceback (most recent call last)",
      "Cell \u001b[1;32mIn[19], line 19\u001b[0m\n\u001b[0;32m     15\u001b[0m \u001b[38;5;28;01mfor\u001b[39;00m _, batch \u001b[38;5;129;01min\u001b[39;00m \u001b[38;5;28menumerate\u001b[39m(train_dataloader):\n\u001b[0;32m     17\u001b[0m     optimizer\u001b[38;5;241m.\u001b[39mzero_grad()\n\u001b[1;32m---> 19\u001b[0m     loss \u001b[38;5;241m=\u001b[39m \u001b[43mtrain_step\u001b[49m\u001b[43m(\u001b[49m\u001b[43mmodel\u001b[49m\u001b[43m,\u001b[49m\u001b[43m \u001b[49m\u001b[43mbatch\u001b[49m\u001b[43m,\u001b[49m\u001b[43m \u001b[49m\u001b[43margs\u001b[49m\u001b[38;5;241;43m.\u001b[39;49m\u001b[43mstart_timestep\u001b[49m\u001b[43m)\u001b[49m\n\u001b[0;32m     21\u001b[0m     fabric\u001b[38;5;241m.\u001b[39mbackward(loss)\n\u001b[0;32m     23\u001b[0m     optimizer\u001b[38;5;241m.\u001b[39mstep()\n",
      "Cell \u001b[1;32mIn[18], line 22\u001b[0m, in \u001b[0;36mtrain_step\u001b[1;34m(model, batch, start_timestep)\u001b[0m\n\u001b[0;32m     20\u001b[0m \u001b[38;5;28;01melse\u001b[39;00m:\n\u001b[0;32m     21\u001b[0m     timestep \u001b[38;5;241m=\u001b[39m torch\u001b[38;5;241m.\u001b[39mtensor(start_timestep\u001b[38;5;241m+\u001b[39m\u001b[38;5;241m1\u001b[39m, device\u001b[38;5;241m=\u001b[39mclean_images\u001b[38;5;241m.\u001b[39mdevice, dtype\u001b[38;5;241m=\u001b[39mtorch\u001b[38;5;241m.\u001b[39mint)\n\u001b[1;32m---> 22\u001b[0m pesudo_white_noise \u001b[38;5;241m=\u001b[39m \u001b[43madd_noise_from_timestep\u001b[49m\u001b[43m(\u001b[49m\u001b[43mnoisy_images\u001b[49m\u001b[43m,\u001b[49m\u001b[43m \u001b[49m\u001b[43mepsilon\u001b[49m\u001b[43m,\u001b[49m\u001b[43m \u001b[49m\u001b[43mtimestep\u001b[49m\u001b[43m)\u001b[49m\n\u001b[0;32m     24\u001b[0m \u001b[38;5;66;03m# predict the epsilon\u001b[39;00m\n\u001b[0;32m     25\u001b[0m predicted_noisy_images \u001b[38;5;241m=\u001b[39m model(pesudo_white_noise, timestep)\u001b[38;5;241m.\u001b[39msample\n",
      "Cell \u001b[1;32mIn[17], line 15\u001b[0m, in \u001b[0;36madd_noise_from_timestep\u001b[1;34m(original_samples, noise, timesteps)\u001b[0m\n\u001b[0;32m      9\u001b[0m \u001b[38;5;28;01mdef\u001b[39;00m \u001b[38;5;21madd_noise_from_timestep\u001b[39m(    \n\u001b[0;32m     10\u001b[0m     original_samples: torch\u001b[38;5;241m.\u001b[39mTensor,\n\u001b[0;32m     11\u001b[0m     noise: torch\u001b[38;5;241m.\u001b[39mTensor,\n\u001b[0;32m     12\u001b[0m     timesteps: torch\u001b[38;5;241m.\u001b[39mIntTensor,\n\u001b[0;32m     13\u001b[0m ) \u001b[38;5;241m-\u001b[39m\u001b[38;5;241m>\u001b[39m torch\u001b[38;5;241m.\u001b[39mTensor:\n\u001b[1;32m---> 15\u001b[0m     alphas_reversed_cumprod \u001b[38;5;241m=\u001b[39m \u001b[43malphas_reversed_cumprod\u001b[49m\u001b[38;5;241m.\u001b[39mto(device\u001b[38;5;241m=\u001b[39moriginal_samples\u001b[38;5;241m.\u001b[39mdevice)\n\u001b[0;32m     16\u001b[0m     alphas_reversed_cumprod \u001b[38;5;241m=\u001b[39m alphas_reversed_cumprod\u001b[38;5;241m.\u001b[39mto(dtype\u001b[38;5;241m=\u001b[39moriginal_samples\u001b[38;5;241m.\u001b[39mdtype)\n\u001b[0;32m     17\u001b[0m     timesteps \u001b[38;5;241m=\u001b[39m timesteps\u001b[38;5;241m.\u001b[39mto(original_samples\u001b[38;5;241m.\u001b[39mdevice)\n",
      "\u001b[1;31mUnboundLocalError\u001b[0m: cannot access local variable 'alphas_reversed_cumprod' where it is not associated with a value"
     ]
    }
   ],
   "source": [
    "# train\n",
    "model.train()\n",
    "\n",
    "# Calculate total iterations\n",
    "total_iterations = args.num_epochs * len(train_dataloader)\n",
    "\n",
    "progress_bar = tqdm(total=total_iterations, desc=\"Training\")\n",
    "\n",
    "t = 0\n",
    "\n",
    "for epoch in range(args.num_epochs):\n",
    "\n",
    "    avg_train_loss_per_epoch = 0\n",
    "\n",
    "    for _, batch in enumerate(train_dataloader):\n",
    "\n",
    "        optimizer.zero_grad()\n",
    "\n",
    "        loss = train_step(model, batch, args.start_timestep)\n",
    "\n",
    "        fabric.backward(loss)\n",
    "\n",
    "        optimizer.step()\n",
    "\n",
    "        lr_scheduler.step()\n",
    "\n",
    "        avg_train_loss_per_epoch += loss.item()\n",
    "        progress_bar.update(1)\n",
    "        progress_bar.set_postfix({\n",
    "            'epoch': f'{epoch+1}/{args.num_epochs}',\n",
    "            'loss': f'{loss.item():.4f}',\n",
    "            'lr': f'{lr_scheduler.get_last_lr()[0]:.6f}'\n",
    "        })\n",
    "    \n",
    "    avg_train_loss_per_epoch /= num_training_batches\n",
    "    #print(f\"Epoch {epoch+1}/{args.num_epochs}, Average train loss: {avg_train_loss_per_epoch:.4f}\")\n"
   ]
  },
  {
   "cell_type": "code",
   "execution_count": null,
   "metadata": {},
   "outputs": [],
   "source": []
  }
 ],
 "metadata": {
  "kernelspec": {
   "display_name": "mingxuan",
   "language": "python",
   "name": "python3"
  },
  "language_info": {
   "codemirror_mode": {
    "name": "ipython",
    "version": 3
   },
   "file_extension": ".py",
   "mimetype": "text/x-python",
   "name": "python",
   "nbconvert_exporter": "python",
   "pygments_lexer": "ipython3",
   "version": "3.11.9"
  }
 },
 "nbformat": 4,
 "nbformat_minor": 2
}
